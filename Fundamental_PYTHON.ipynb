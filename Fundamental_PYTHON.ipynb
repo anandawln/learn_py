{
  "nbformat": 4,
  "nbformat_minor": 0,
  "metadata": {
    "colab": {
      "provenance": []
    },
    "kernelspec": {
      "name": "python3",
      "display_name": "Python 3"
    },
    "language_info": {
      "name": "python"
    }
  },
  "cells": [
    {
      "cell_type": "code",
      "execution_count": null,
      "metadata": {
        "id": "A3Obq7LqGoTR",
        "colab": {
          "base_uri": "https://localhost:8080/"
        },
        "outputId": "00c854c1-7178-4bce-8b79-e3822634705b"
      },
      "outputs": [
        {
          "output_type": "stream",
          "name": "stdout",
          "text": [
            "Tulis Nama :ADAM\n",
            "Hallo ADAM\n"
          ]
        }
      ],
      "source": [
        "nama = input(\"Tulis Nama :\")\n",
        "print(\"Hallo \" + nama)"
      ]
    },
    {
      "cell_type": "code",
      "source": [
        "import math\n",
        "\n",
        "# using methods\n",
        "print(math.pow(2, 3))\n",
        "print(math.ceil(3.2))\n",
        "print(math.sqrt(25))\n",
        "\n",
        "print(math.pi)\n",
        "# pow = pangkat, ceil = bulatkan keatas, sqrt = akar"
      ],
      "metadata": {
        "colab": {
          "base_uri": "https://localhost:8080/"
        },
        "id": "OVPt-_cPqfSa",
        "outputId": "ae066e68-f50b-433d-d13b-640e97aca405"
      },
      "execution_count": null,
      "outputs": [
        {
          "output_type": "stream",
          "name": "stdout",
          "text": [
            "8.0\n",
            "4\n",
            "5.0\n",
            "3.141592653589793\n"
          ]
        }
      ]
    },
    {
      "cell_type": "code",
      "source": [
        "angka1 = 3\n",
        "angka2 = 5\n",
        "print(\"Hasil penjumlahan yaitu : \" + str(angka1+angka2))\n",
        "print(angka2%angka1)\n",
        "print(angka1**angka2)\n",
        "\n"
      ],
      "metadata": {
        "colab": {
          "base_uri": "https://localhost:8080/"
        },
        "id": "kbi2ivAYH6Vw",
        "outputId": "f9ccd67e-3329-4f55-b246-d26ec8e878ee"
      },
      "execution_count": null,
      "outputs": [
        {
          "output_type": "stream",
          "name": "stdout",
          "text": [
            "Hasil penjumlahan yaitu : 8\n",
            "2\n",
            "243\n"
          ]
        }
      ]
    },
    {
      "cell_type": "code",
      "source": [
        "import math\n",
        "angka = 4\n",
        "print(math.sqrt(angka))\n"
      ],
      "metadata": {
        "colab": {
          "base_uri": "https://localhost:8080/"
        },
        "id": "-AcvvdH-rHGu",
        "outputId": "250ddff8-309f-4d55-aecb-46940d74ec26"
      },
      "execution_count": null,
      "outputs": [
        {
          "output_type": "stream",
          "name": "stdout",
          "text": [
            "2.0\n"
          ]
        }
      ]
    },
    {
      "cell_type": "code",
      "source": [
        "angka = 5\n",
        "print(\"angka sebelum ditambah: \" + str(angka))\n",
        "# cara pertama\n",
        "angka = angka + 5\n",
        "print(\"angka setelah ditambah: \" + str(angka))\n",
        "# cara kedua\n",
        "angka += 5\n",
        "print(\"angka setelah ditambah: \" + str(angka))\n",
        "# notes: pilih salah satu saja, jangan run cara 1 dan cara 2 coding scr bersamaan"
      ],
      "metadata": {
        "colab": {
          "base_uri": "https://localhost:8080/"
        },
        "id": "x0FKLihrskUw",
        "outputId": "63fc10ba-735e-4fe1-bf15-1506fa43f56f"
      },
      "execution_count": null,
      "outputs": [
        {
          "output_type": "stream",
          "name": "stdout",
          "text": [
            "angka sebelum ditambah: 5\n",
            "angka setelah ditambah: 10\n",
            "angka setelah ditambah: 15\n"
          ]
        }
      ]
    },
    {
      "cell_type": "code",
      "source": [
        "# STRING (escape character)\n",
        "print(\"Selamat datang di \\\"Coding Studio\\\"!\")\n",
        "# STRING METHODS (bawaan phyton)\n",
        "text = \"coding studio\"\n",
        "\n",
        "print(text.upper())\n",
        "print(text.lower())\n",
        "print(len(text))\n",
        "print(text.split(' '))\n",
        "print(text.capitalize())\n",
        "print(text.index('s'))\n"
      ],
      "metadata": {
        "colab": {
          "base_uri": "https://localhost:8080/"
        },
        "id": "pJv5QF52v96V",
        "outputId": "8584a7e2-06c3-404a-ad9c-cc0125a46627"
      },
      "execution_count": null,
      "outputs": [
        {
          "output_type": "stream",
          "name": "stdout",
          "text": [
            "Selamat datang di \"Coding Studio\"!\n",
            "CODING STUDIO\n",
            "coding studio\n",
            "13\n",
            "['coding', 'studio']\n",
            "Coding studio\n",
            "7\n"
          ]
        }
      ]
    },
    {
      "cell_type": "code",
      "source": [
        "hasil = [i for i in range(0, 13, 3)]\n",
        "print(hasil)"
      ],
      "metadata": {
        "colab": {
          "base_uri": "https://localhost:8080/"
        },
        "id": "CP0An5zepDh8",
        "outputId": "3e5e8019-2307-4e49-db71-4bc83746b98d"
      },
      "execution_count": null,
      "outputs": [
        {
          "output_type": "stream",
          "name": "stdout",
          "text": [
            "[0, 3, 6, 9, 12]\n"
          ]
        }
      ]
    },
    {
      "cell_type": "code",
      "source": [
        "# slicing string (mengembalikan karakter yang berada dalam rentang index yang diberikan)\n",
        "#  P Y T H O N\n",
        "#  0 1 2 3 4 5\n",
        "# -6-5-4-3-2-1\n",
        "\n",
        "text = \"Python\"\n",
        "\n",
        "print(text[0])\n",
        "print(text[2:])\n",
        "print(text[:4])\n",
        "print(text[3:5])\n",
        "print(text[:])\n",
        "print(text[-2])\n",
        "print(text[-4:-1])\n"
      ],
      "metadata": {
        "colab": {
          "base_uri": "https://localhost:8080/"
        },
        "id": "TL7ka3MB10GC",
        "outputId": "12abf5ba-bd40-4321-e104-e7b8cbaf4140"
      },
      "execution_count": null,
      "outputs": [
        {
          "output_type": "stream",
          "name": "stdout",
          "text": [
            "P\n",
            "thon\n",
            "Pyth\n",
            "ho\n",
            "Python\n",
            "o\n",
            "tho\n"
          ]
        }
      ]
    },
    {
      "cell_type": "code",
      "source": [
        "# String Concatenation (menggabungkan dua buah string, kita dapat menggunakan syntax +)\n",
        "x = \"coding\"\n",
        "y = \"studio\"\n",
        "\n",
        "print(x + y)\n",
        "print(x + \" \" + y)\n",
        "print(x + \" \" + y + \" \" + str(100))\n"
      ],
      "metadata": {
        "colab": {
          "base_uri": "https://localhost:8080/"
        },
        "id": "l5JLuqu3czip",
        "outputId": "4b7cb93b-725c-4858-ae0f-736df674c613"
      },
      "execution_count": null,
      "outputs": [
        {
          "output_type": "stream",
          "name": "stdout",
          "text": [
            "codingstudio\n",
            "coding studio\n",
            "coding studio 100\n"
          ]
        }
      ]
    },
    {
      "cell_type": "code",
      "source": [
        "# String Format\n",
        "# tidak bisa menggabungkan langsung string dan angka, maka dari itu dapat menggunakan casting dan format()\n",
        "mangga = 5\n",
        "apel = 7\n",
        "pisang = 4\n",
        "text = \"cecep membeli {} mangga, {} apel, dan {} pisang.\"\n",
        "print(text.format(mangga, apel, pisang))\n"
      ],
      "metadata": {
        "colab": {
          "base_uri": "https://localhost:8080/"
        },
        "id": "ZhTuY8UcfnOm",
        "outputId": "42db4086-6ef5-4eeb-ee42-703f5d0d519b"
      },
      "execution_count": null,
      "outputs": [
        {
          "output_type": "stream",
          "name": "stdout",
          "text": [
            "cecep membeli 5 mangga, 7 apel, dan 4 pisang.\n"
          ]
        }
      ]
    },
    {
      "cell_type": "code",
      "source": [
        "# In vs Not in\n",
        "# memeriksa apakah sebuah substring terdapat sebuah string\n",
        "text = \"I loved you\"\n",
        "print(\"loved\" in text)\n",
        "print(\"me\" in text)"
      ],
      "metadata": {
        "colab": {
          "base_uri": "https://localhost:8080/"
        },
        "id": "X51x-oOTg4Lo",
        "outputId": "20072840-a159-43e4-95b0-cf59c1af0e57"
      },
      "execution_count": null,
      "outputs": [
        {
          "output_type": "stream",
          "name": "stdout",
          "text": [
            "True\n",
            "False\n"
          ]
        }
      ]
    },
    {
      "cell_type": "code",
      "source": [
        "# Conditional Statement\n",
        "x = 5\n",
        "y = 10\n",
        "print(not(x > y))\n",
        "print(x < y)\n",
        "print(x > y or x < y)\n",
        "# x < y = 5 < 10 = True  (statement 1)\n",
        "# x > y = 5 > 10 = False (statemnet 2)\n",
        "# statement 1 and statement 2 = True and False = False\n",
        "# statement 1 or statement 2  = True or False  = True\n",
        "# and (jika keduanya benar), or (salah satu benar), not(mengubah false menjadi true)\n",
        "# 5!=2 (tidak sama dengan), 16==16 (sama dengan), 5<=7 (kurang dari sama dengan), 8>=8 (lebih dari sama dengan)\n"
      ],
      "metadata": {
        "colab": {
          "base_uri": "https://localhost:8080/"
        },
        "id": "IfNstnxjhvhA",
        "outputId": "b0a48d83-6578-4dee-b5d6-53a5b7e685fa"
      },
      "execution_count": null,
      "outputs": [
        {
          "output_type": "stream",
          "name": "stdout",
          "text": [
            "True\n",
            "True\n"
          ]
        }
      ]
    },
    {
      "cell_type": "code",
      "source": [
        "# conditional statement 1\n",
        "x = 10\n",
        "y = 15\n",
        "\n",
        "if x == y: # false dan tidak akan muncul hasil\n",
        "  print(\"x sama dengan y\")\n",
        "\n",
        "if x < y: # true maka akan muncul hasilnya\n",
        "  print(\"x kurang dari y\")\n",
        "\n",
        "  # ingat sblm print dikasih tab/spasi"
      ],
      "metadata": {
        "colab": {
          "base_uri": "https://localhost:8080/"
        },
        "id": "80-h2yx-QY2x",
        "outputId": "2382775a-1c58-4e24-ccdf-6da5faa41da2"
      },
      "execution_count": null,
      "outputs": [
        {
          "output_type": "stream",
          "name": "stdout",
          "text": [
            "x kurang dari y\n"
          ]
        }
      ]
    },
    {
      "cell_type": "code",
      "source": [
        "# conditional statements 2\n",
        "a = 10\n",
        "b = 5\n",
        "c = 6\n",
        "if a > b:\n",
        "  print(\"a lebih besar dari b\")\n",
        "else:\n",
        "  print(\"a tidak lebih besar dari b\")\n",
        "\n",
        "if (a > b and b > c): # true and false = false\n",
        "  print(\"a lebih besar dari b\") # command ini akan dijalankan jika True\n",
        "else:\n",
        "  print(\"a tidak lebih besar dari b\") #command ini akan dijaankan jika False\n"
      ],
      "metadata": {
        "colab": {
          "base_uri": "https://localhost:8080/"
        },
        "id": "ktajTYRfS7XK",
        "outputId": "af09798e-57e5-4312-d854-15c428e18117"
      },
      "execution_count": null,
      "outputs": [
        {
          "output_type": "stream",
          "name": "stdout",
          "text": [
            "a lebih besar dari b\n",
            "a tidak lebih besar dari b\n"
          ]
        }
      ]
    },
    {
      "cell_type": "code",
      "source": [
        "# Conditional statement 3\n",
        "x = 30\n",
        "y = 15\n",
        "z = 20\n",
        "\n",
        "if (x > y): # true\n",
        "  print(\"x lebih besar dari y\")\n",
        "elif (x < y):\n",
        "  print(\"x lebih kecil dari y\")\n",
        "elif (z < y):\n",
        "  print(\"z lebih besar dari y\")\n",
        "else:\n",
        "  print(\"kondisi jika semua pernyataan false\")\n",
        "# jika sudah menemukan true di pernyataan pertama maka akan berhenti di awal dan tidak dilanjutkan\n"
      ],
      "metadata": {
        "colab": {
          "base_uri": "https://localhost:8080/"
        },
        "id": "ftv-fTbrw5RG",
        "outputId": "81f73541-0538-4887-c11c-2d3206f767b7"
      },
      "execution_count": null,
      "outputs": [
        {
          "output_type": "stream",
          "name": "stdout",
          "text": [
            "x lebih besar dari y\n"
          ]
        }
      ]
    },
    {
      "cell_type": "code",
      "source": [
        "# Conditional statement 3\n",
        "x = 30\n",
        "y = 15\n",
        "z = 20\n",
        "\n",
        "if (x == y):\n",
        "  print(\"x lebih besar dari y\")\n",
        "elif (x < y):\n",
        "  print(\"x lebih kecil dari y\")\n",
        "elif (z == y):\n",
        "  print(\"z lebih besar dari y\")\n",
        "else:\n",
        "  print(\"kondisi jika semua pernyataan false\")\n",
        "# jika semua salah maka pilihan else"
      ],
      "metadata": {
        "colab": {
          "base_uri": "https://localhost:8080/"
        },
        "id": "LuQmd-QqzZtn",
        "outputId": "32337ca8-ad88-4f59-aab5-331020e60162"
      },
      "execution_count": null,
      "outputs": [
        {
          "output_type": "stream",
          "name": "stdout",
          "text": [
            "kondisi jika semua pernyataan false\n"
          ]
        }
      ]
    },
    {
      "cell_type": "code",
      "source": [
        "# Loop statements\n",
        "# for loop digunakan untuk menjalankan sebuah operasi berulang-ulang selama suatu kondisi terpenuhi\n",
        "# ketika sedang merebus mie, kita akan mulai meniriskan mie ketka sudah matang. Selama (while) mie belum matang rebus mie\n",
        "print(\"Looping!\")\n",
        "print(\"Looping!\")\n",
        "print(\"Looping!\")\n",
        "print(\"Looping!\")\n",
        "print(\"Looping!\")\n",
        "print(\"Looping!\")\n",
        "# cara di atas tentu akan memakan waktu sehingga,\n",
        "for i in range(6): #parameter cuma 1 (default parameter)\n",
        "  print(\"Looping!\")\n",
        "# function atau syntax Range\n",
        "# memiliki parameter sebagai berikut: start, stop, dan step\n",
        "# secara default, range memiliki default parameter sebagai berikut: range(start = 0, stop, step)\n",
        "# berdasarkan kasus di atas range = 6, (start = 0, stop = 6, step 1)\n",
        "\n",
        "for i in range(0, 5, 1): #parameter ada 3\n",
        "  print(i)\n",
        "for i in range(0, 8, 2):\n",
        "  print(i)\n",
        "# angka 5, 10, 15, 20, 25\n",
        "for i in range(5, 30, 5):\n",
        "  print(i)"
      ],
      "metadata": {
        "id": "AGt-dmZZzzD_",
        "colab": {
          "base_uri": "https://localhost:8080/"
        },
        "outputId": "30bccacd-7aad-40bb-9ad7-90db1a2c27e2"
      },
      "execution_count": null,
      "outputs": [
        {
          "output_type": "stream",
          "name": "stdout",
          "text": [
            "Looping!\n",
            "Looping!\n",
            "Looping!\n",
            "Looping!\n",
            "Looping!\n",
            "Looping!\n",
            "Looping!\n",
            "Looping!\n",
            "Looping!\n",
            "Looping!\n",
            "Looping!\n",
            "Looping!\n",
            "0\n",
            "1\n",
            "2\n",
            "3\n",
            "4\n",
            "0\n",
            "2\n",
            "4\n",
            "6\n",
            "5\n",
            "10\n",
            "15\n",
            "20\n",
            "25\n"
          ]
        }
      ]
    },
    {
      "cell_type": "code",
      "source": [
        "# Break and continue\n",
        "# dengan break statement, kita dapat menghentikan sebuah loop walaupun loopnya masih berjalan\n",
        "# angka kelipatan 3 tapi stop di 21\n",
        "for i in range(3, 50, 3):\n",
        "  if i == 21:\n",
        "    break\n",
        "\n",
        "  print (i)\n",
        "# continue\n",
        "for i in range(10, 20, 3):\n",
        "  if i == 13:\n",
        "    continue\n",
        "  print (i)\n",
        "\n",
        "# print angka ganjil dari 1 sampai 10\n",
        "for i in range(1, 11):\n",
        "  if i % 2 == 0:\n",
        "    continue  # jika bilangan habis dibagi 2 maka lanjut interaksi selanjutnya\n",
        "  print (i)\n",
        "# cara kedua\n",
        "for i in range(1, 11):\n",
        "  if i % 2 != 0:\n",
        "    print(i)\n"
      ],
      "metadata": {
        "colab": {
          "base_uri": "https://localhost:8080/"
        },
        "id": "35JI-9jDge9R",
        "outputId": "5b3cb14f-e95a-4c09-9f72-5fe17da54e36"
      },
      "execution_count": null,
      "outputs": [
        {
          "output_type": "stream",
          "name": "stdout",
          "text": [
            "3\n",
            "6\n",
            "9\n",
            "12\n",
            "15\n",
            "18\n",
            "10\n",
            "16\n",
            "19\n",
            "1\n",
            "3\n",
            "5\n",
            "7\n",
            "9\n",
            "1\n",
            "3\n",
            "5\n",
            "7\n",
            "9\n"
          ]
        }
      ]
    },
    {
      "cell_type": "code",
      "source": [
        "# While statements --> akan mengeksekusi operasi di dalamnya selama kondisinya bernilai True\n",
        "nilai = 50\n",
        "while(nilai < 70):\n",
        "  print(\"Nilai sekarang: \" + str(nilai))\n",
        "  nilai += 5\n",
        "# selama nilai kurang dari 70 maka akan dijalankan (dg nilai + 5), namun ketika sudah mencapai 70 artinya bukan kurang dari 70 lagi, sehingga kondisi menjadi false\n",
        "uang = 100\n",
        "while(uang > 0):\n",
        "  print(\"masih punya uang: \" + str(uang))\n",
        "  uang -= 10\n",
        "\n",
        "print(\"uang aing habis!\")\n",
        "# artinya jika sudah = 0 brt bukan >0 lagi, sehingga kondisi false\n"
      ],
      "metadata": {
        "colab": {
          "base_uri": "https://localhost:8080/"
        },
        "id": "dcz9GsVxhUIC",
        "outputId": "d6675d5e-bf88-4d2b-f8e0-ac545b47f60a"
      },
      "execution_count": null,
      "outputs": [
        {
          "output_type": "stream",
          "name": "stdout",
          "text": [
            "Nilai sekarang: 50\n",
            "Nilai sekarang: 55\n",
            "Nilai sekarang: 60\n",
            "Nilai sekarang: 65\n",
            "masih punya uang: 100\n",
            "masih punya uang: 90\n",
            "masih punya uang: 80\n",
            "masih punya uang: 70\n",
            "masih punya uang: 60\n",
            "masih punya uang: 50\n",
            "masih punya uang: 40\n",
            "masih punya uang: 30\n",
            "masih punya uang: 20\n",
            "masih punya uang: 10\n",
            "uang aing habis!\n"
          ]
        }
      ]
    },
    {
      "cell_type": "code",
      "source": [
        "# Python Collection Data Types 1\n",
        "# list adalah sebuah koleksi yang terurut dan dapat diganti, list dapat menampung elemen yang duplikat\n",
        "listExample = ['phyton', 40, 2.5, True, 42]\n",
        "\n",
        "print(listExample[0])\n",
        "print(listExample[1:4])\n",
        "print(listExample[-1])\n",
        "print(listExample)\n",
        "\n",
        "# List Operations\n",
        "# Create data (append, insert), Read data, Update data, Delete data (remove, pop, del, clear)\n",
        "# disingkat CRUD\n",
        "\n",
        "# INSERT\n",
        "listExample = [42, 'Python', 3.85, 50]\n",
        "listExample.insert(1, 'Data science') #(index, object)\n",
        "listExample.append('javascript') # akan menambahkan elemen ke paling belakang list\n",
        "print(listExample)\n",
        "\n",
        "# REMOVE\n",
        "listExample = [23, 'nanda', 3.7, 21]\n",
        "listExample.remove('nanda') # spesifik mau hapus apa\n",
        "print(listExample)\n",
        "\n",
        "listExample = [23, 'noya', 3.7, 21]\n",
        "listExample.pop() # kebalikannya append (menghapus paling belakang) atau hapus by index dengan kosongin elemen ()\n",
        "print(listExample)\n",
        "\n",
        "listExample = [20, 'noya', 3.7, 31]\n",
        "del listExample[2] # del index 2 (spesifik indexnya)\n",
        "print(listExample)\n",
        "\n",
        "listExample = [10, 'noya', 2.5, 20]\n",
        "listExample.clear() # buat hapus elemen\n",
        "print(listExample)\n"
      ],
      "metadata": {
        "colab": {
          "base_uri": "https://localhost:8080/"
        },
        "id": "WjL7b1r8lY5o",
        "outputId": "9fc9bab9-38b6-4790-bcb7-fd6beb407043"
      },
      "execution_count": null,
      "outputs": [
        {
          "output_type": "stream",
          "name": "stdout",
          "text": [
            "phyton\n",
            "[40, 2.5, True]\n",
            "42\n",
            "['phyton', 40, 2.5, True, 42]\n",
            "[42, 'Data science', 'Python', 3.85, 50, 'javascript']\n",
            "[23, 3.7, 21]\n",
            "[23, 'noya', 3.7]\n",
            "[20, 'noya', 31]\n",
            "[]\n"
          ]
        }
      ]
    },
    {
      "cell_type": "code",
      "source": [
        "#  list iteration\n",
        "listExample = [40, 50, 20, 70, 80]\n",
        "\n",
        "for item in listExample:\n",
        "  print(item)\n",
        "\n",
        "listExample = [30, 55, 20, 75, 90]\n",
        "\n",
        "for item in listExample:\n",
        "  if item % 2 == 0:\n",
        "    print(item)\n",
        "\n",
        "listExample = [30, 55, 20, 75, 90]\n",
        "\n",
        "if 30 in listExample:\n",
        "  print(\"ya terdapat nilai 30\")\n"
      ],
      "metadata": {
        "colab": {
          "base_uri": "https://localhost:8080/"
        },
        "id": "Gma93l7zxI0w",
        "outputId": "70c65de4-568b-4104-c58f-d19b7de741d6"
      },
      "execution_count": null,
      "outputs": [
        {
          "output_type": "stream",
          "name": "stdout",
          "text": [
            "40\n",
            "50\n",
            "20\n",
            "70\n",
            "80\n",
            "30\n",
            "20\n",
            "90\n",
            "ya terdapat nilai 30\n"
          ]
        }
      ]
    },
    {
      "cell_type": "code",
      "source": [
        "# methods: len, copy, concat (+ dan extend), index, sort, reverse\n",
        "# length = len(listExample) #panjang list\n",
        "# copy\n",
        "# jika tidak menggunakan copy maka akan dianggap sama\n",
        "listExample = [30, 55, 20, 75, 90]\n",
        "listExample2 = listExample\n",
        "listExample2[0] = 100\n",
        "print(listExample)\n",
        "print(listExample2)\n",
        "\n",
        "# jika pakai copy elemen akan berbeda\n",
        "listExample = [30, 55, 20, 75, 90]\n",
        "listExample2 = listExample.copy()\n",
        "listExample2[0] = 100\n",
        "print(listExample)\n",
        "print(listExample2)\n"
      ],
      "metadata": {
        "id": "JS865LVB9ICz",
        "colab": {
          "base_uri": "https://localhost:8080/"
        },
        "outputId": "c79fdaef-447e-49c1-95b3-5e8738b781ce"
      },
      "execution_count": null,
      "outputs": [
        {
          "output_type": "stream",
          "name": "stdout",
          "text": [
            "[100, 55, 20, 75, 90]\n",
            "[100, 55, 20, 75, 90]\n",
            "[30, 55, 20, 75, 90]\n",
            "[100, 55, 20, 75, 90]\n"
          ]
        }
      ]
    },
    {
      "cell_type": "code",
      "source": [
        "# concat\n",
        "listExample = [40, 55, 20]\n",
        "listExample2 = [70, 100]\n",
        "print(listExample+listExample2)\n",
        "\n",
        "# extend\n",
        "listExample = [40, 55, 20]\n",
        "listExample2 = [70, 100]\n",
        "listExample.extend(listExample2)\n",
        "print(listExample)\n",
        "\n",
        "# index\n",
        "listExample = [40, 55, 20]\n",
        "print(listExample.index(55))\n",
        "\n",
        "# sort (mensortir elemen)\n",
        "listExample = [40, 55, 20]\n",
        "print(listExample.sort())\n",
        "\n",
        "# yang benar diberi jarak untuk melakukan print\n",
        "listExample = [40, 55, 20]\n",
        "listExample.sort()\n",
        "\n",
        "print(listExample)\n",
        "\n",
        "# reverse/ menukar\n",
        "listExample = [40, 55, 20]\n",
        "listExample.reverse()\n",
        "\n",
        "print(listExample)"
      ],
      "metadata": {
        "colab": {
          "base_uri": "https://localhost:8080/"
        },
        "id": "OYFq5hwfBRqa",
        "outputId": "799b3aa8-7013-49b6-a963-35dc018d5205"
      },
      "execution_count": null,
      "outputs": [
        {
          "output_type": "stream",
          "name": "stdout",
          "text": [
            "[40, 55, 20, 70, 100]\n",
            "[40, 55, 20, 70, 100]\n",
            "1\n",
            "None\n",
            "[20, 40, 55]\n",
            "[20, 55, 40]\n"
          ]
        }
      ]
    },
    {
      "cell_type": "code",
      "source": [
        "# Collection data type 2\n",
        "# Tuple\n",
        "# berbeda dengan list, elemen di dalam tuple tidak bisa diubah\n",
        "# tupleExample = (2, 3)\n",
        "# tupleExample[0] = 4\n",
        "# misal di list kita bisa ubah index 0 yaitu 2 dengan angka 4, tapi di tuple tidak bisa\n",
        "# hasilnya akan --> TypeError: 'tuple' object does not support item assignment (syntax salah)\n",
        "\n",
        "# pakai kurung biasa bukan [] krn nanti akan error\n",
        "tupleExample = ('Python', 20, 3.8, True, 20)\n",
        "print(tupleExample)\n",
        "print(tupleExample[1:3])\n",
        "print(tupleExample[-2])\n",
        "\n"
      ],
      "metadata": {
        "colab": {
          "base_uri": "https://localhost:8080/"
        },
        "id": "PPNLlV5_Ekwx",
        "outputId": "dca3a84c-31e7-47d0-b855-49d525b21903"
      },
      "execution_count": null,
      "outputs": [
        {
          "output_type": "stream",
          "name": "stdout",
          "text": [
            "('Python', 20, 3.8, True, 20)\n",
            "(20, 3.8)\n",
            "True\n"
          ]
        }
      ]
    },
    {
      "cell_type": "code",
      "source": [
        "# Dictionary/kampus----> pakai kurung kurawal{}\n",
        "# digunakan untuk menyimpan data dalam bentuk key:value\n",
        "customer = {\n",
        "    \"nama\":\"Cecep\",\n",
        "    \"umur\": 30\n",
        "}\n",
        "                              #dictionary bisa diperlakukan seperti list\n",
        "print(customer)\n",
        "print(customer[\"nama\"])\n",
        "print(customer[\"umur\"])\n",
        "\n",
        "\n",
        "customer = {\n",
        "    \"nama\":\"Cecep\",\n",
        "    \"umur\": 30\n",
        "}\n",
        "\n",
        "customer[\"nama\"] = \"Dina\"             #key juga bisa diubah seperti index\n",
        "print(customer)\n",
        "print(customer[\"nama\"])\n",
        "print(customer[\"umur\"])\n",
        "\n",
        "customer = {\n",
        "    \"nama\":\"Cecep\",\n",
        "    \"umur\": 30\n",
        "}\n",
        "\n",
        "customer[\"pekerjaan\"] = \"data analyst\"             #key juga bisa diubah seperti index\n",
        "print(customer)\n",
        "\n",
        "customer = {\n",
        "    \"nama\":\"Cecep\",\n",
        "    \"umur\": 30\n",
        "}\n",
        "\n",
        "customer[\"pekerjaan\"] = \"data analyst\"             #key juga bisa diubah seperti index\n",
        "customer.pop(\"umur\")\n",
        "\n",
        "print(customer)\n"
      ],
      "metadata": {
        "colab": {
          "base_uri": "https://localhost:8080/"
        },
        "id": "8DMhMo5VIWQA",
        "outputId": "9ad83c0e-9960-4e84-a269-d235da84f93a"
      },
      "execution_count": null,
      "outputs": [
        {
          "output_type": "stream",
          "name": "stdout",
          "text": [
            "{'nama': 'Cecep', 'umur': 30}\n",
            "Cecep\n",
            "30\n",
            "{'nama': 'Dina', 'umur': 30}\n",
            "Dina\n",
            "30\n",
            "{'nama': 'Cecep', 'umur': 30, 'pekerjaan': 'data analyst'}\n",
            "{'nama': 'Cecep', 'pekerjaan': 'data analyst'}\n"
          ]
        }
      ]
    },
    {
      "cell_type": "code",
      "source": [
        "# Set ---> adalah kumpulan elemen unik yang tidak memiliki urutan\n",
        "# union = semua elemen yang ada di A dan ada di B\n",
        "# intersection = mencari elemen yang sama di A dan B\n",
        "# difference = apa yang dimiliki A tetapi tidak dimiliki B atau kebalikannya\n",
        "# symmetric difference = elemen A dan B yang tidak sama\n",
        "# co : A = 1 2 3 B : 2 4 5 -->symmetric dif = 1 3 4 5\n",
        "\n",
        "# union\n",
        "numbers1 = {1, 3, 5, 4, 10}\n",
        "numbers2 = {3, 4 , 10, 7, 8}\n",
        "\n",
        "numbers_union = numbers1.union(numbers2)\n",
        "print(numbers_union)   # hasilnya elemen yang sama tidak akan diprint 2 kali\n",
        "\n",
        "# difference\n",
        "numbers1 = {1, 3, 5, 4, 10}\n",
        "numbers2 = {3, 4 , 10, 7, 8}\n",
        "\n",
        "difference1 = numbers1.difference(numbers2)\n",
        "print(difference1)\n",
        "\n",
        "# sym-difference\n",
        "numbers1 = {1, 3, 5, 4, 10}\n",
        "numbers2 = {3, 4 , 10, 7, 8}\n",
        "\n",
        "sym_difference= numbers1.symmetric_difference(numbers2)\n",
        "print(sym_difference)\n",
        "\n",
        "# intersec\n",
        "numbers1 = {1, 3, 5, 4, 10}\n",
        "numbers2 = {3, 4, 10, 7, 8}\n",
        "intersect = numbers1.intersection(numbers2)\n",
        "print(intersect)\n"
      ],
      "metadata": {
        "colab": {
          "base_uri": "https://localhost:8080/"
        },
        "id": "P8VAuJDtJxwp",
        "outputId": "01a9ba75-8f61-4af1-b550-40abd30a0905"
      },
      "execution_count": null,
      "outputs": [
        {
          "output_type": "stream",
          "name": "stdout",
          "text": [
            "{1, 3, 4, 5, 7, 8, 10}\n",
            "{1, 5}\n",
            "{1, 5, 7, 8}\n",
            "{10, 3, 4}\n"
          ]
        }
      ]
    },
    {
      "cell_type": "code",
      "source": [
        "# Functions\n",
        "# function memungkinan kumpulan code untuk digunakan kembali di suatu program\n",
        "# Phyton menyediakan beberapa built-in function seperti len(), print(), dan type()\n",
        "# Co: Chef merupakan sebuah function, return valuenya berupa burger dan makanan lainnya\n",
        "\n",
        "# Function Syntax\n",
        "# Function name: nama dari function(len, print)\n",
        "# Argument: nilai yang diberikan ke function/bahan (string, list)\n",
        "# Function body: isi dari sebuah function/action yang dilakukan\n",
        "# Return value: hasil yang dikembalikan oleh function\n",
        "\n",
        "# Create & Call --> di Python, kita menggunakan def() untuk membuat sebuah fungsi\n",
        "def greet():\n",
        "  print(\"Hello, stranger!\")\n",
        "  print(\"Nice to meet you.\")\n",
        "\n",
        "greet()\n",
        "\n",
        "# Passing Arguments\n",
        "def greet(name):\n",
        "  print(\"Hello, \" + name)\n",
        "\n",
        "greet(\"Budi\")\n",
        "greet(\"Ahmad\")\n",
        "greet(\"Cecep\")\n",
        "\n",
        "# Parameter = name, age\n",
        "def greet(name, age):\n",
        "  print(\"Name: \" + name)\n",
        "  print(\"Age: \" + str(age))\n",
        "\n",
        "# Argument = \"Budi\", 20\n",
        "greet(\"Budi\", 20)\n",
        "\n",
        "def greet(name, age):\n",
        "  print(\"Name: \" + name)\n",
        "  print(\"Age: \" + str(age))\n",
        "\n",
        "greet(age=20, name=\"Cecep\") # jika tidak mau urut harus request, jika seperti syntax di bawah maka tidak jadi\n",
        "\n",
        "# def greet(name, age):\n",
        "#   print(\"Name: \" + name)\n",
        "#   print(\"Age: \" + str(age))\n",
        "\n",
        "# greet(20, \"Cecep\")\n"
      ],
      "metadata": {
        "colab": {
          "base_uri": "https://localhost:8080/"
        },
        "id": "7DQH_kH3P98O",
        "outputId": "82bc07d5-d5f2-4056-ee22-4fd94babf856"
      },
      "execution_count": null,
      "outputs": [
        {
          "output_type": "stream",
          "name": "stdout",
          "text": [
            "Hello, stranger!\n",
            "Nice to meet you.\n",
            "Hello, Budi\n",
            "Hello, Ahmad\n",
            "Hello, Cecep\n",
            "Name: Budi\n",
            "Age: 20\n",
            "Name: Cecep\n",
            "Age: 20\n"
          ]
        }
      ]
    },
    {
      "cell_type": "code",
      "source": [
        "# lambda function\n",
        "def add5(x): # contoh 1\n",
        "  return x+5\n",
        "\n",
        "print(add5(2))\n",
        "\n",
        "def add5(number):  # contoh 2\n",
        "  total = number + 5\n",
        "  return total\n",
        "\n",
        "number = 10\n",
        "number_added_5 = add5(number)\n",
        "print(number_added_5)\n",
        "\n",
        "# lambda function agar lebih singkat ttp hanya untuk fungsi sederhana saja\n",
        "add5 = lambda x: x+5   # contoh 1\n",
        "print(add5(2))\n",
        "\n",
        "number = 10         # contoh 2\n",
        "total = lambda n: n+5\n",
        "print(total(number))\n",
        "\n"
      ],
      "metadata": {
        "colab": {
          "base_uri": "https://localhost:8080/"
        },
        "id": "m59wjHG2nxZH",
        "outputId": "1ce04e17-7a67-45e3-ccc9-52d75f91c16a"
      },
      "execution_count": null,
      "outputs": [
        {
          "output_type": "stream",
          "name": "stdout",
          "text": [
            "7\n",
            "15\n",
            "7\n",
            "15\n"
          ]
        }
      ]
    },
    {
      "cell_type": "code",
      "source": [
        "# Class & Object 1\n",
        "# Class ----> python adalah sebuah bahasa pemograman object oriented language\n",
        "# hampir semua hal di python merupakan sebuah objek yang memiliki property dan method\n",
        "# sebuah class adalah blueprint untuk membuat sebuah object\n",
        "\n",
        "# create a class\n",
        "class Person:    #blueprint\n",
        "  nama = \"Budi\"\n",
        "\n",
        "obj = Person()\n",
        "print(type(obj))\n",
        "print(obj.nama)\n",
        "\n",
        "class Angka:\n",
        "  jumlah = 8\n",
        "\n",
        "a = Angka()\n",
        "print(a.jumlah)\n",
        "b = Angka()\n",
        "print(b.jumlah)\n",
        "\n"
      ],
      "metadata": {
        "colab": {
          "base_uri": "https://localhost:8080/"
        },
        "id": "IQCFLEsgpvLB",
        "outputId": "9c9f1b0c-d80e-4fc0-ba43-7739a9247d0d"
      },
      "execution_count": null,
      "outputs": [
        {
          "output_type": "stream",
          "name": "stdout",
          "text": [
            "<class '__main__.Person'>\n",
            "Budi\n",
            "8\n",
            "8\n"
          ]
        }
      ]
    },
    {
      "cell_type": "code",
      "source": [
        "\n",
        "# __init__()\n",
        "# fungsi _init_() akan otomatis dipanggil ketika kita membuat sebuah object\n",
        "# dengan fungsi ini kita dapat mendeklarasi property yang dimiliki ole sebuah class\n",
        "\n",
        "class Person:\n",
        "  def __init__(self, name, age):\n",
        "     self.name = name\n",
        "     self.age = age\n",
        "\n",
        "p1 = Person(\"Budi\", 20)\n",
        "\n",
        "print(p1.name)\n",
        "print(p1.age)\n",
        "\n",
        "class Person:\n",
        "  def __init__(self, name, age, score):\n",
        "    self.name = name\n",
        "    self.age = age\n",
        "    self.score = score\n",
        "\n",
        "  def greet(self):\n",
        "    print(\"Halo, \" + self.name + \"!\")\n",
        "\n",
        "p1 = Person(\"Cecep\", 20, 95)\n",
        "p2 = Person(\"Budi\", 25, 80)\n",
        "\n",
        "print(p1.name)\n",
        "print(p1.__dict__)\n",
        "print(p2.__dict__)\n",
        "\n",
        "p1.greet()\n",
        "p2.greet()"
      ],
      "metadata": {
        "colab": {
          "base_uri": "https://localhost:8080/"
        },
        "id": "MKXDHvSHm2Jd",
        "outputId": "f242ef1a-d668-4ed1-9ff4-40d25a89791a"
      },
      "execution_count": null,
      "outputs": [
        {
          "output_type": "stream",
          "name": "stdout",
          "text": [
            "Budi\n",
            "20\n",
            "Cecep\n",
            "{'name': 'Cecep', 'age': 20, 'score': 95}\n",
            "{'name': 'Budi', 'age': 25, 'score': 80}\n",
            "Halo, Cecep!\n",
            "Halo, Budi!\n"
          ]
        }
      ]
    },
    {
      "cell_type": "code",
      "source": [
        "class Cat(Animal): # child class\n",
        "  def __init__(self, name, age, color, weight):\n",
        "    self.name = name\n",
        "    self.age = age\n",
        "    self.color = color\n",
        "    self.weight = weight\n",
        "\n",
        "a1 = Cat(\"kitten\", 2, \"Black\", 1.34)\n",
        "print(a1.name + age)\n",
        "print(a1.color)\n",
        "print(a1.weight)"
      ],
      "metadata": {
        "colab": {
          "base_uri": "https://localhost:8080/",
          "height": 219
        },
        "id": "MQauDvoyyunF",
        "outputId": "8122db51-0ac0-429c-a25f-7d1aa7ad6007"
      },
      "execution_count": null,
      "outputs": [
        {
          "output_type": "error",
          "ename": "NameError",
          "evalue": "name 'age' is not defined",
          "traceback": [
            "\u001b[0;31m---------------------------------------------------------------------------\u001b[0m",
            "\u001b[0;31mNameError\u001b[0m                                 Traceback (most recent call last)",
            "\u001b[0;32m<ipython-input-44-5dcdceaa866f>\u001b[0m in \u001b[0;36m<cell line: 9>\u001b[0;34m()\u001b[0m\n\u001b[1;32m      7\u001b[0m \u001b[0;34m\u001b[0m\u001b[0m\n\u001b[1;32m      8\u001b[0m \u001b[0ma1\u001b[0m \u001b[0;34m=\u001b[0m \u001b[0mCat\u001b[0m\u001b[0;34m(\u001b[0m\u001b[0;34m\"kitten\"\u001b[0m\u001b[0;34m,\u001b[0m \u001b[0;36m2\u001b[0m\u001b[0;34m,\u001b[0m \u001b[0;34m\"Black\"\u001b[0m\u001b[0;34m,\u001b[0m \u001b[0;36m1.34\u001b[0m\u001b[0;34m)\u001b[0m\u001b[0;34m\u001b[0m\u001b[0;34m\u001b[0m\u001b[0m\n\u001b[0;32m----> 9\u001b[0;31m \u001b[0mprint\u001b[0m\u001b[0;34m(\u001b[0m\u001b[0ma1\u001b[0m\u001b[0;34m.\u001b[0m\u001b[0mname\u001b[0m \u001b[0;34m+\u001b[0m \u001b[0mage\u001b[0m\u001b[0;34m)\u001b[0m\u001b[0;34m\u001b[0m\u001b[0;34m\u001b[0m\u001b[0m\n\u001b[0m\u001b[1;32m     10\u001b[0m \u001b[0mprint\u001b[0m\u001b[0;34m(\u001b[0m\u001b[0ma1\u001b[0m\u001b[0;34m.\u001b[0m\u001b[0mcolor\u001b[0m\u001b[0;34m)\u001b[0m\u001b[0;34m\u001b[0m\u001b[0;34m\u001b[0m\u001b[0m\n\u001b[1;32m     11\u001b[0m \u001b[0mprint\u001b[0m\u001b[0;34m(\u001b[0m\u001b[0ma1\u001b[0m\u001b[0;34m.\u001b[0m\u001b[0mweight\u001b[0m\u001b[0;34m)\u001b[0m\u001b[0;34m\u001b[0m\u001b[0;34m\u001b[0m\u001b[0m\n",
            "\u001b[0;31mNameError\u001b[0m: name 'age' is not defined"
          ]
        }
      ]
    },
    {
      "cell_type": "code",
      "source": [
        "# Class & Object 2\n",
        "\n",
        "class Animal: # parent class\n",
        "  def __init__(self, name, age):\n",
        "    self.name = name\n",
        "    self.age = age\n",
        "\n",
        "a1 = Animal(\"puppy\", 1)\n",
        "print(a1.name)\n",
        "print(a1.age)\n",
        "\n",
        "class Cat(Animal): # child class\n",
        "  def __init__(self, name, age, color, weight):\n",
        "    super().__init__(name, age)\n",
        "    self.color = color\n",
        "    self.weight = weight\n",
        "\n",
        "a1 = Cat(\"kitten\", 2, \"Black\", 1.34)\n",
        "print(super())\n",
        "print(a1.color)\n",
        "\n",
        "\n",
        "\n",
        "class Dog(Animal):\n",
        "  def __init__(self, name, age, types):\n",
        "   super().__init__(name.age)\n",
        "   self.type = types\n",
        "\n",
        "  def greet(self):\n",
        "    print(\"Hello!\" + self.name + \"!\")\n",
        "\n",
        "\n"
      ],
      "metadata": {
        "id": "2TBp8zXcwAf7",
        "colab": {
          "base_uri": "https://localhost:8080/",
          "height": 255
        },
        "outputId": "7f1cb2ee-91b8-4d60-dfd2-8dcc53263dd9"
      },
      "execution_count": null,
      "outputs": [
        {
          "output_type": "stream",
          "name": "stdout",
          "text": [
            "puppy\n",
            "1\n"
          ]
        },
        {
          "output_type": "error",
          "ename": "RuntimeError",
          "evalue": "super(): no arguments",
          "traceback": [
            "\u001b[0;31m---------------------------------------------------------------------------\u001b[0m",
            "\u001b[0;31mRuntimeError\u001b[0m                              Traceback (most recent call last)",
            "\u001b[0;32m<ipython-input-46-547671cd7065>\u001b[0m in \u001b[0;36m<cell line: 19>\u001b[0;34m()\u001b[0m\n\u001b[1;32m     17\u001b[0m \u001b[0;34m\u001b[0m\u001b[0m\n\u001b[1;32m     18\u001b[0m \u001b[0ma1\u001b[0m \u001b[0;34m=\u001b[0m \u001b[0mCat\u001b[0m\u001b[0;34m(\u001b[0m\u001b[0;34m\"kitten\"\u001b[0m\u001b[0;34m,\u001b[0m \u001b[0;36m2\u001b[0m\u001b[0;34m,\u001b[0m \u001b[0;34m\"Black\"\u001b[0m\u001b[0;34m,\u001b[0m \u001b[0;36m1.34\u001b[0m\u001b[0;34m)\u001b[0m\u001b[0;34m\u001b[0m\u001b[0;34m\u001b[0m\u001b[0m\n\u001b[0;32m---> 19\u001b[0;31m \u001b[0mprint\u001b[0m\u001b[0;34m(\u001b[0m\u001b[0msuper\u001b[0m\u001b[0;34m(\u001b[0m\u001b[0;34m)\u001b[0m\u001b[0;34m)\u001b[0m\u001b[0;34m\u001b[0m\u001b[0;34m\u001b[0m\u001b[0m\n\u001b[0m\u001b[1;32m     20\u001b[0m \u001b[0mprint\u001b[0m\u001b[0;34m(\u001b[0m\u001b[0ma1\u001b[0m\u001b[0;34m.\u001b[0m\u001b[0mcolor\u001b[0m\u001b[0;34m)\u001b[0m\u001b[0;34m\u001b[0m\u001b[0;34m\u001b[0m\u001b[0m\n\u001b[1;32m     21\u001b[0m \u001b[0;34m\u001b[0m\u001b[0m\n",
            "\u001b[0;31mRuntimeError\u001b[0m: super(): no arguments"
          ]
        }
      ]
    },
    {
      "cell_type": "code",
      "source": [
        "# File processing\n",
        "# Python mendukung proses file handling seperti membaca dan menulis file\n",
        "# Berbeda dengan bahasa pemograman lain, python memiliki konsep yang sangat sederhana untuk file\n",
        "\n",
        "\n",
        "# Open () function\n",
        "# dengan open(), kita dapat membaca file dalam beberapa mode\n",
        "# open() akan mengembalikan sebuah file object.\n",
        "#             nama file\n",
        "#                 |\n",
        "file = open(\"coding-studio.txt\", \"r\")\n",
        "print(file)\n",
        "\n",
        "# pastikan file dalam satu folder, jika tidak satu folder tulis secara lengkap User/Documents/C:\n",
        "# r = reading, w = writing\n",
        "\n",
        "# jika mau mengedit dan berubah semua\n",
        "file = open(\"coding-studio.txt\", \"w\")\n",
        "file.write(\"Ini adalah text yang baru\") #edit\n",
        "file.close()\n",
        "# jika mau diedit tetapi ditimpa pake append\n",
        "file = open(\"coding-studio.txt\", \"a\")\n",
        "file.write(\"Ini adalah text yang baru\") #edit\n",
        "file.write(\"\\nIni adalah text yang baru\") #edit jika teks diletakkan dibawahnya\n",
        "file.close()\n"
      ],
      "metadata": {
        "colab": {
          "base_uri": "https://localhost:8080/",
          "height": 200
        },
        "id": "3xTkrjvdyM7a",
        "outputId": "7c39fd5e-cc96-456c-b5de-acbf14775831"
      },
      "execution_count": null,
      "outputs": [
        {
          "output_type": "error",
          "ename": "FileNotFoundError",
          "evalue": "[Errno 2] No such file or directory: 'coding-studio.txt'",
          "traceback": [
            "\u001b[0;31m---------------------------------------------------------------------------\u001b[0m",
            "\u001b[0;31mFileNotFoundError\u001b[0m                         Traceback (most recent call last)",
            "\u001b[0;32m<ipython-input-46-1e87c6679e1f>\u001b[0m in \u001b[0;36m<cell line: 10>\u001b[0;34m()\u001b[0m\n\u001b[1;32m      8\u001b[0m \u001b[0;31m# open() akan mengembalikan sebuah file object.\u001b[0m\u001b[0;34m\u001b[0m\u001b[0;34m\u001b[0m\u001b[0m\n\u001b[1;32m      9\u001b[0m \u001b[0;34m\u001b[0m\u001b[0m\n\u001b[0;32m---> 10\u001b[0;31m \u001b[0mfile\u001b[0m \u001b[0;34m=\u001b[0m \u001b[0mopen\u001b[0m\u001b[0;34m(\u001b[0m\u001b[0;34m\"coding-studio.txt\"\u001b[0m\u001b[0;34m,\u001b[0m \u001b[0;34m\"r\"\u001b[0m\u001b[0;34m)\u001b[0m\u001b[0;34m\u001b[0m\u001b[0;34m\u001b[0m\u001b[0m\n\u001b[0m\u001b[1;32m     11\u001b[0m \u001b[0mprint\u001b[0m\u001b[0;34m(\u001b[0m\u001b[0mfile\u001b[0m\u001b[0;34m)\u001b[0m\u001b[0;34m\u001b[0m\u001b[0;34m\u001b[0m\u001b[0m\n",
            "\u001b[0;31mFileNotFoundError\u001b[0m: [Errno 2] No such file or directory: 'coding-studio.txt'"
          ]
        }
      ]
    },
    {
      "cell_type": "code",
      "source": [
        "def minimal(a, b):\n",
        "    if a <= b:\n",
        "        return a\n",
        "    else:\n",
        "        return b\n",
        "\n",
        "# Contoh penggunaan\n",
        "print(minimal(5, 10))  # Output: 5\n",
        "print(minimal(10, 5))  # Output: 5\n",
        "print(minimal(7, 7))   # Output: 7"
      ],
      "metadata": {
        "colab": {
          "base_uri": "https://localhost:8080/"
        },
        "id": "6ZUwYtQjqHYg",
        "outputId": "53373b5d-126f-4849-ac90-76ba95e5a931"
      },
      "execution_count": null,
      "outputs": [
        {
          "output_type": "stream",
          "name": "stdout",
          "text": [
            "5\n",
            "5\n",
            "7\n"
          ]
        }
      ]
    },
    {
      "cell_type": "code",
      "source": [
        "def minimal(a, b):\n",
        "    \"\"\"\n",
        "    Mengembalikan nilai terkecil antara a atau b.\n",
        "    Bila nilainya sama, mengembalikan nilai a.\n",
        "    \"\"\"\n",
        "    if a <= b:\n",
        "        return a\n",
        "    else:\n",
        "        return b\n",
        "\n",
        "# Contoh penggunaan\n",
        "print(minimal(3, 5))  # Output: 3\n",
        "print(minimal(7, 2))  # Output: 2\n",
        "print(minimal(4, 4))  # Output: 4\n"
      ],
      "metadata": {
        "colab": {
          "base_uri": "https://localhost:8080/"
        },
        "id": "b_OrzcNZqmiL",
        "outputId": "b99f3b2a-604b-4d11-ee1a-8960ffd7309f"
      },
      "execution_count": null,
      "outputs": [
        {
          "output_type": "stream",
          "name": "stdout",
          "text": [
            "3\n",
            "2\n",
            "4\n"
          ]
        }
      ]
    }
  ]
}